{
 "cells": [
  {
   "cell_type": "markdown",
   "metadata": {},
   "source": [
    "# Расчёт Trolox equivalent antioxidant capacity (TEAC)"
   ]
  },
  {
   "cell_type": "code",
   "execution_count": 1,
   "metadata": {},
   "outputs": [],
   "source": [
    "import pandas as pd\n",
    "import numpy as np\n",
    "from matplotlib import pyplot as plt"
   ]
  },
  {
   "cell_type": "markdown",
   "metadata": {},
   "source": [
    "Загружаем данные"
   ]
  },
  {
   "cell_type": "code",
   "execution_count": 2,
   "metadata": {
    "scrolled": false
   },
   "outputs": [
    {
     "data": {
      "text/html": [
       "<div>\n",
       "<style scoped>\n",
       "    .dataframe tbody tr th:only-of-type {\n",
       "        vertical-align: middle;\n",
       "    }\n",
       "\n",
       "    .dataframe tbody tr th {\n",
       "        vertical-align: top;\n",
       "    }\n",
       "\n",
       "    .dataframe thead th {\n",
       "        text-align: right;\n",
       "    }\n",
       "</style>\n",
       "<table border=\"1\" class=\"dataframe\">\n",
       "  <thead>\n",
       "    <tr style=\"text-align: right;\">\n",
       "      <th></th>\n",
       "      <th>name</th>\n",
       "      <th>conc</th>\n",
       "      <th>0 min</th>\n",
       "      <th>1 min</th>\n",
       "      <th>2 min</th>\n",
       "      <th>3 min</th>\n",
       "      <th>4 min</th>\n",
       "      <th>5 min</th>\n",
       "      <th>6 min</th>\n",
       "      <th>7 min</th>\n",
       "      <th>...</th>\n",
       "      <th>30 min</th>\n",
       "      <th>31 min</th>\n",
       "      <th>32 min</th>\n",
       "      <th>33 min</th>\n",
       "      <th>34 min</th>\n",
       "      <th>35 min</th>\n",
       "      <th>36 min</th>\n",
       "      <th>37 min</th>\n",
       "      <th>38 min</th>\n",
       "      <th>39 min</th>\n",
       "    </tr>\n",
       "  </thead>\n",
       "  <tbody>\n",
       "    <tr>\n",
       "      <th>0</th>\n",
       "      <td>H2O</td>\n",
       "      <td>0</td>\n",
       "      <td>1.544</td>\n",
       "      <td>1.536</td>\n",
       "      <td>1.524</td>\n",
       "      <td>1.528</td>\n",
       "      <td>1.517</td>\n",
       "      <td>1.521</td>\n",
       "      <td>1.519</td>\n",
       "      <td>1.510</td>\n",
       "      <td>...</td>\n",
       "      <td>1.460</td>\n",
       "      <td>1.451</td>\n",
       "      <td>1.454</td>\n",
       "      <td>1.446</td>\n",
       "      <td>1.450</td>\n",
       "      <td>1.451</td>\n",
       "      <td>1.445</td>\n",
       "      <td>1.431</td>\n",
       "      <td>1.446</td>\n",
       "      <td>1.432</td>\n",
       "    </tr>\n",
       "    <tr>\n",
       "      <th>1</th>\n",
       "      <td>H2O</td>\n",
       "      <td>0</td>\n",
       "      <td>1.512</td>\n",
       "      <td>1.508</td>\n",
       "      <td>1.497</td>\n",
       "      <td>1.512</td>\n",
       "      <td>1.498</td>\n",
       "      <td>1.490</td>\n",
       "      <td>1.505</td>\n",
       "      <td>1.491</td>\n",
       "      <td>...</td>\n",
       "      <td>1.444</td>\n",
       "      <td>1.445</td>\n",
       "      <td>1.439</td>\n",
       "      <td>1.433</td>\n",
       "      <td>1.436</td>\n",
       "      <td>1.440</td>\n",
       "      <td>1.427</td>\n",
       "      <td>1.429</td>\n",
       "      <td>1.428</td>\n",
       "      <td>1.419</td>\n",
       "    </tr>\n",
       "    <tr>\n",
       "      <th>2</th>\n",
       "      <td>H2O</td>\n",
       "      <td>0</td>\n",
       "      <td>1.506</td>\n",
       "      <td>1.501</td>\n",
       "      <td>1.489</td>\n",
       "      <td>1.500</td>\n",
       "      <td>1.497</td>\n",
       "      <td>1.492</td>\n",
       "      <td>1.496</td>\n",
       "      <td>1.483</td>\n",
       "      <td>...</td>\n",
       "      <td>1.442</td>\n",
       "      <td>1.442</td>\n",
       "      <td>1.436</td>\n",
       "      <td>1.442</td>\n",
       "      <td>1.440</td>\n",
       "      <td>1.438</td>\n",
       "      <td>1.434</td>\n",
       "      <td>1.439</td>\n",
       "      <td>1.433</td>\n",
       "      <td>1.428</td>\n",
       "    </tr>\n",
       "    <tr>\n",
       "      <th>3</th>\n",
       "      <td>H2O</td>\n",
       "      <td>0</td>\n",
       "      <td>1.542</td>\n",
       "      <td>1.531</td>\n",
       "      <td>1.532</td>\n",
       "      <td>1.544</td>\n",
       "      <td>1.529</td>\n",
       "      <td>1.530</td>\n",
       "      <td>1.537</td>\n",
       "      <td>1.525</td>\n",
       "      <td>...</td>\n",
       "      <td>1.471</td>\n",
       "      <td>1.474</td>\n",
       "      <td>1.472</td>\n",
       "      <td>1.464</td>\n",
       "      <td>1.473</td>\n",
       "      <td>1.462</td>\n",
       "      <td>1.456</td>\n",
       "      <td>1.459</td>\n",
       "      <td>1.453</td>\n",
       "      <td>1.450</td>\n",
       "    </tr>\n",
       "    <tr>\n",
       "      <th>4</th>\n",
       "      <td>Trolox</td>\n",
       "      <td>35</td>\n",
       "      <td>1.470</td>\n",
       "      <td>1.463</td>\n",
       "      <td>1.458</td>\n",
       "      <td>1.472</td>\n",
       "      <td>1.460</td>\n",
       "      <td>1.472</td>\n",
       "      <td>1.473</td>\n",
       "      <td>1.459</td>\n",
       "      <td>...</td>\n",
       "      <td>1.416</td>\n",
       "      <td>1.408</td>\n",
       "      <td>1.415</td>\n",
       "      <td>1.403</td>\n",
       "      <td>1.409</td>\n",
       "      <td>1.410</td>\n",
       "      <td>1.407</td>\n",
       "      <td>1.396</td>\n",
       "      <td>1.400</td>\n",
       "      <td>1.392</td>\n",
       "    </tr>\n",
       "    <tr>\n",
       "      <th>5</th>\n",
       "      <td>Trolox</td>\n",
       "      <td>35</td>\n",
       "      <td>1.476</td>\n",
       "      <td>1.475</td>\n",
       "      <td>1.464</td>\n",
       "      <td>1.470</td>\n",
       "      <td>1.459</td>\n",
       "      <td>1.460</td>\n",
       "      <td>1.461</td>\n",
       "      <td>1.457</td>\n",
       "      <td>...</td>\n",
       "      <td>1.408</td>\n",
       "      <td>1.402</td>\n",
       "      <td>1.399</td>\n",
       "      <td>1.395</td>\n",
       "      <td>1.403</td>\n",
       "      <td>1.402</td>\n",
       "      <td>1.391</td>\n",
       "      <td>1.393</td>\n",
       "      <td>1.393</td>\n",
       "      <td>1.389</td>\n",
       "    </tr>\n",
       "    <tr>\n",
       "      <th>6</th>\n",
       "      <td>Trolox</td>\n",
       "      <td>35</td>\n",
       "      <td>1.503</td>\n",
       "      <td>1.491</td>\n",
       "      <td>1.481</td>\n",
       "      <td>1.483</td>\n",
       "      <td>1.484</td>\n",
       "      <td>1.485</td>\n",
       "      <td>1.485</td>\n",
       "      <td>1.478</td>\n",
       "      <td>...</td>\n",
       "      <td>1.435</td>\n",
       "      <td>1.425</td>\n",
       "      <td>1.422</td>\n",
       "      <td>1.426</td>\n",
       "      <td>1.421</td>\n",
       "      <td>1.419</td>\n",
       "      <td>1.412</td>\n",
       "      <td>1.418</td>\n",
       "      <td>1.410</td>\n",
       "      <td>1.408</td>\n",
       "    </tr>\n",
       "    <tr>\n",
       "      <th>7</th>\n",
       "      <td>Trolox</td>\n",
       "      <td>35</td>\n",
       "      <td>1.468</td>\n",
       "      <td>1.462</td>\n",
       "      <td>1.458</td>\n",
       "      <td>1.466</td>\n",
       "      <td>1.460</td>\n",
       "      <td>1.461</td>\n",
       "      <td>1.455</td>\n",
       "      <td>1.452</td>\n",
       "      <td>...</td>\n",
       "      <td>1.415</td>\n",
       "      <td>1.413</td>\n",
       "      <td>1.412</td>\n",
       "      <td>1.413</td>\n",
       "      <td>1.411</td>\n",
       "      <td>1.408</td>\n",
       "      <td>1.403</td>\n",
       "      <td>1.407</td>\n",
       "      <td>1.402</td>\n",
       "      <td>1.401</td>\n",
       "    </tr>\n",
       "    <tr>\n",
       "      <th>8</th>\n",
       "      <td>Trolox</td>\n",
       "      <td>54</td>\n",
       "      <td>1.452</td>\n",
       "      <td>1.445</td>\n",
       "      <td>1.440</td>\n",
       "      <td>1.451</td>\n",
       "      <td>1.455</td>\n",
       "      <td>1.448</td>\n",
       "      <td>1.453</td>\n",
       "      <td>1.446</td>\n",
       "      <td>...</td>\n",
       "      <td>1.393</td>\n",
       "      <td>1.388</td>\n",
       "      <td>1.385</td>\n",
       "      <td>1.384</td>\n",
       "      <td>1.383</td>\n",
       "      <td>1.380</td>\n",
       "      <td>1.378</td>\n",
       "      <td>1.374</td>\n",
       "      <td>1.370</td>\n",
       "      <td>1.373</td>\n",
       "    </tr>\n",
       "    <tr>\n",
       "      <th>9</th>\n",
       "      <td>Trolox</td>\n",
       "      <td>54</td>\n",
       "      <td>1.448</td>\n",
       "      <td>1.443</td>\n",
       "      <td>1.434</td>\n",
       "      <td>1.436</td>\n",
       "      <td>1.431</td>\n",
       "      <td>1.431</td>\n",
       "      <td>1.431</td>\n",
       "      <td>1.428</td>\n",
       "      <td>...</td>\n",
       "      <td>1.385</td>\n",
       "      <td>1.385</td>\n",
       "      <td>1.383</td>\n",
       "      <td>1.378</td>\n",
       "      <td>1.375</td>\n",
       "      <td>1.379</td>\n",
       "      <td>1.371</td>\n",
       "      <td>1.367</td>\n",
       "      <td>1.371</td>\n",
       "      <td>1.363</td>\n",
       "    </tr>\n",
       "  </tbody>\n",
       "</table>\n",
       "<p>10 rows × 42 columns</p>\n",
       "</div>"
      ],
      "text/plain": [
       "     name  conc  0 min   1 min   2 min   3 min   4 min   5 min   6 min   \\\n",
       "0     H2O     0   1.544   1.536   1.524   1.528   1.517   1.521   1.519   \n",
       "1     H2O     0   1.512   1.508   1.497   1.512   1.498   1.490   1.505   \n",
       "2     H2O     0   1.506   1.501   1.489   1.500   1.497   1.492   1.496   \n",
       "3     H2O     0   1.542   1.531   1.532   1.544   1.529   1.530   1.537   \n",
       "4  Trolox    35   1.470   1.463   1.458   1.472   1.460   1.472   1.473   \n",
       "5  Trolox    35   1.476   1.475   1.464   1.470   1.459   1.460   1.461   \n",
       "6  Trolox    35   1.503   1.491   1.481   1.483   1.484   1.485   1.485   \n",
       "7  Trolox    35   1.468   1.462   1.458   1.466   1.460   1.461   1.455   \n",
       "8  Trolox    54   1.452   1.445   1.440   1.451   1.455   1.448   1.453   \n",
       "9  Trolox    54   1.448   1.443   1.434   1.436   1.431   1.431   1.431   \n",
       "\n",
       "   7 min   ...  30 min   31 min   32 min   33 min   34 min   35 min   36 min   \\\n",
       "0   1.510  ...    1.460    1.451    1.454    1.446    1.450    1.451    1.445   \n",
       "1   1.491  ...    1.444    1.445    1.439    1.433    1.436    1.440    1.427   \n",
       "2   1.483  ...    1.442    1.442    1.436    1.442    1.440    1.438    1.434   \n",
       "3   1.525  ...    1.471    1.474    1.472    1.464    1.473    1.462    1.456   \n",
       "4   1.459  ...    1.416    1.408    1.415    1.403    1.409    1.410    1.407   \n",
       "5   1.457  ...    1.408    1.402    1.399    1.395    1.403    1.402    1.391   \n",
       "6   1.478  ...    1.435    1.425    1.422    1.426    1.421    1.419    1.412   \n",
       "7   1.452  ...    1.415    1.413    1.412    1.413    1.411    1.408    1.403   \n",
       "8   1.446  ...    1.393    1.388    1.385    1.384    1.383    1.380    1.378   \n",
       "9   1.428  ...    1.385    1.385    1.383    1.378    1.375    1.379    1.371   \n",
       "\n",
       "   37 min   38 min   39 min   \n",
       "0    1.431    1.446    1.432  \n",
       "1    1.429    1.428    1.419  \n",
       "2    1.439    1.433    1.428  \n",
       "3    1.459    1.453    1.450  \n",
       "4    1.396    1.400    1.392  \n",
       "5    1.393    1.393    1.389  \n",
       "6    1.418    1.410    1.408  \n",
       "7    1.407    1.402    1.401  \n",
       "8    1.374    1.370    1.373  \n",
       "9    1.367    1.371    1.363  \n",
       "\n",
       "[10 rows x 42 columns]"
      ]
     },
     "execution_count": 2,
     "metadata": {},
     "output_type": "execute_result"
    }
   ],
   "source": [
    "data = pd.read_csv('data/exampl.csv', sep=';')\n",
    "data.head(10)"
   ]
  },
  {
   "cell_type": "markdown",
   "metadata": {},
   "source": [
    "Для расчёт данным методом нам нужны только значения при конечном времени. Поэтому оставим только их"
   ]
  },
  {
   "cell_type": "code",
   "execution_count": 3,
   "metadata": {},
   "outputs": [],
   "source": [
    "data = data.loc[:, ['name', 'conc', '39 min ']]"
   ]
  },
  {
   "cell_type": "markdown",
   "metadata": {},
   "source": [
    "Найдём средние значения поглащение воды"
   ]
  },
  {
   "cell_type": "code",
   "execution_count": 4,
   "metadata": {},
   "outputs": [
    {
     "data": {
      "text/plain": [
       "1.43225"
      ]
     },
     "execution_count": 4,
     "metadata": {},
     "output_type": "execute_result"
    }
   ],
   "source": [
    "blank = data.loc[data['name'] == 'H2O']['39 min '].mean()\n",
    "blank"
   ]
  },
  {
   "cell_type": "markdown",
   "metadata": {},
   "source": [
    "Теперь получим разницу между бланком и поглащением в образцах, тем самым - падение концентрации радикала"
   ]
  },
  {
   "cell_type": "code",
   "execution_count": 5,
   "metadata": {},
   "outputs": [],
   "source": [
    "data['delta'] = blank - data['39 min ']"
   ]
  },
  {
   "cell_type": "markdown",
   "metadata": {},
   "source": [
    "Теперь посчтиаем каллибровочные коэффициенты по тролоксу. Выберем данные по нему"
   ]
  },
  {
   "cell_type": "code",
   "execution_count": 6,
   "metadata": {},
   "outputs": [
    {
     "data": {
      "text/html": [
       "<div>\n",
       "<style scoped>\n",
       "    .dataframe tbody tr th:only-of-type {\n",
       "        vertical-align: middle;\n",
       "    }\n",
       "\n",
       "    .dataframe tbody tr th {\n",
       "        vertical-align: top;\n",
       "    }\n",
       "\n",
       "    .dataframe thead th {\n",
       "        text-align: right;\n",
       "    }\n",
       "</style>\n",
       "<table border=\"1\" class=\"dataframe\">\n",
       "  <thead>\n",
       "    <tr style=\"text-align: right;\">\n",
       "      <th></th>\n",
       "      <th>39 min</th>\n",
       "      <th>delta</th>\n",
       "    </tr>\n",
       "    <tr>\n",
       "      <th>conc</th>\n",
       "      <th></th>\n",
       "      <th></th>\n",
       "    </tr>\n",
       "  </thead>\n",
       "  <tbody>\n",
       "    <tr>\n",
       "      <th>35</th>\n",
       "      <td>1.39750</td>\n",
       "      <td>0.03475</td>\n",
       "    </tr>\n",
       "    <tr>\n",
       "      <th>54</th>\n",
       "      <td>1.37325</td>\n",
       "      <td>0.05900</td>\n",
       "    </tr>\n",
       "    <tr>\n",
       "      <th>85</th>\n",
       "      <td>1.35625</td>\n",
       "      <td>0.07600</td>\n",
       "    </tr>\n",
       "    <tr>\n",
       "      <th>175</th>\n",
       "      <td>1.26050</td>\n",
       "      <td>0.17175</td>\n",
       "    </tr>\n",
       "    <tr>\n",
       "      <th>350</th>\n",
       "      <td>1.03275</td>\n",
       "      <td>0.39950</td>\n",
       "    </tr>\n",
       "  </tbody>\n",
       "</table>\n",
       "</div>"
      ],
      "text/plain": [
       "      39 min     delta\n",
       "conc                  \n",
       "35    1.39750  0.03475\n",
       "54    1.37325  0.05900\n",
       "85    1.35625  0.07600\n",
       "175   1.26050  0.17175\n",
       "350   1.03275  0.39950"
      ]
     },
     "execution_count": 6,
     "metadata": {},
     "output_type": "execute_result"
    }
   ],
   "source": [
    "trolox = data.loc[data['name'] == 'Trolox'].groupby('conc').mean()\n",
    "trolox"
   ]
  },
  {
   "cell_type": "markdown",
   "metadata": {},
   "source": [
    "Построим каллибровочную кривую и посчитаем коэффициенты"
   ]
  },
  {
   "cell_type": "code",
   "execution_count": 7,
   "metadata": {},
   "outputs": [
    {
     "data": {
      "text/plain": [
       "<matplotlib.legend.Legend at 0x10fd3730>"
      ]
     },
     "execution_count": 7,
     "metadata": {},
     "output_type": "execute_result"
    },
    {
     "data": {
      "image/png": "[encoded data removed]",
      "text/plain": [
       "<Figure size 400x300 with 1 Axes>"
      ]
     },
     "metadata": {
      "needs_background": "light"
     },
     "output_type": "display_data"
    }
   ],
   "source": [
    "params = np.polyfit(trolox.index, trolox['delta'], 1)\n",
    "\n",
    "fig, ax = plt.subplots(figsize=(4,3), dpi =100)\n",
    "ax.plot(trolox.index, trolox['delta'], 'o', color='black')\n",
    "xp = np.linspace(0, 400, 10)\n",
    "yp = np.polyval(params, xp)\n",
    "ax.plot(xp, yp, 'g', label=f'{round(params[0],5)}*x + {round(params[1],4)}')\n",
    "ax.set_xlim(0)\n",
    "ax.set_ylim(0)\n",
    "ax.set_xlabel('trolox, mkmol/l')\n",
    "ax.set_ylabel('Δ')\n",
    "ax.legend()"
   ]
  },
  {
   "cell_type": "markdown",
   "metadata": {},
   "source": [
    "соответствующие коэффициенты"
   ]
  },
  {
   "cell_type": "code",
   "execution_count": 8,
   "metadata": {},
   "outputs": [],
   "source": [
    "a = params[0]\n",
    "b = params[1]"
   ]
  },
  {
   "cell_type": "markdown",
   "metadata": {},
   "source": [
    "Рассчитываем антиоксидантную емкость по образцам"
   ]
  },
  {
   "cell_type": "code",
   "execution_count": 9,
   "metadata": {
    "scrolled": true
   },
   "outputs": [],
   "source": [
    "data['TEAC'] = (data['delta'] - b) / (data['conc'] * a)"
   ]
  },
  {
   "cell_type": "markdown",
   "metadata": {},
   "source": [
    "оставим только колнки с названием образца и рассчитаным значением TEAC. Уберём тролокс из данных"
   ]
  },
  {
   "cell_type": "code",
   "execution_count": 10,
   "metadata": {},
   "outputs": [],
   "source": [
    "data = data.loc[data['name']!='Trolox'].loc[:, ['name', 'TEAC']]"
   ]
  },
  {
   "cell_type": "markdown",
   "metadata": {},
   "source": [
    "Сгруппируем, найдём стандртное отклонение и среднее"
   ]
  },
  {
   "cell_type": "code",
   "execution_count": 11,
   "metadata": {},
   "outputs": [],
   "source": [
    "result = data.groupby('name').mean()\n",
    "std = data.groupby('name').std()\n",
    "result.columns = ['TEAC, mkmol/mg']\n",
    "std.columns = ['TEAC,std']"
   ]
  },
  {
   "cell_type": "markdown",
   "metadata": {},
   "source": [
    "Смержим результат, сохраним в таблице"
   ]
  },
  {
   "cell_type": "code",
   "execution_count": 12,
   "metadata": {},
   "outputs": [
    {
     "data": {
      "text/html": [
       "<div>\n",
       "<style scoped>\n",
       "    .dataframe tbody tr th:only-of-type {\n",
       "        vertical-align: middle;\n",
       "    }\n",
       "\n",
       "    .dataframe tbody tr th {\n",
       "        vertical-align: top;\n",
       "    }\n",
       "\n",
       "    .dataframe thead th {\n",
       "        text-align: right;\n",
       "    }\n",
       "</style>\n",
       "<table border=\"1\" class=\"dataframe\">\n",
       "  <thead>\n",
       "    <tr style=\"text-align: right;\">\n",
       "      <th></th>\n",
       "      <th>TEAC, mkmol/mg</th>\n",
       "      <th>TEAC,std</th>\n",
       "    </tr>\n",
       "    <tr>\n",
       "      <th>name</th>\n",
       "      <th></th>\n",
       "      <th></th>\n",
       "    </tr>\n",
       "  </thead>\n",
       "  <tbody>\n",
       "    <tr>\n",
       "      <th>FA</th>\n",
       "      <td>2.006162</td>\n",
       "      <td>0.291631</td>\n",
       "    </tr>\n",
       "    <tr>\n",
       "      <th>H2O</th>\n",
       "      <td>NaN</td>\n",
       "      <td>NaN</td>\n",
       "    </tr>\n",
       "    <tr>\n",
       "      <th>HS</th>\n",
       "      <td>0.911430</td>\n",
       "      <td>0.234884</td>\n",
       "    </tr>\n",
       "    <tr>\n",
       "      <th>HS-mod</th>\n",
       "      <td>1.955498</td>\n",
       "      <td>0.122597</td>\n",
       "    </tr>\n",
       "  </tbody>\n",
       "</table>\n",
       "</div>"
      ],
      "text/plain": [
       "        TEAC, mkmol/mg  TEAC,std\n",
       "name                            \n",
       "FA            2.006162  0.291631\n",
       "H2O                NaN       NaN\n",
       "HS            0.911430  0.234884\n",
       "HS-mod        1.955498  0.122597"
      ]
     },
     "execution_count": 12,
     "metadata": {},
     "output_type": "execute_result"
    }
   ],
   "source": [
    "result = result.merge(std, on='name')\n",
    "#result.to_csv('data_result.csv', sep=';')\n",
    "result"
   ]
  }
 ],
 "metadata": {
  "kernelspec": {
   "display_name": "Python 3",
   "language": "python",
   "name": "python3"
  },
  "language_info": {
   "codemirror_mode": {
    "name": "ipython",
    "version": 3
   },
   "file_extension": ".py",
   "mimetype": "text/x-python",
   "name": "python",
   "nbconvert_exporter": "python",
   "pygments_lexer": "ipython3",
   "version": "3.8.2"
  }
 },
 "nbformat": 4,
 "nbformat_minor": 2
}
